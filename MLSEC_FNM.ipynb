{
  "nbformat": 4,
  "nbformat_minor": 0,
  "metadata": {
    "colab": {
      "provenance": [],
      "authorship_tag": "ABX9TyNxlyUAd4NkfuiWRpdcc6oC",
      "include_colab_link": true
    },
    "kernelspec": {
      "name": "python3",
      "display_name": "Python 3"
    },
    "language_info": {
      "name": "python"
    }
  },
  "cells": [
    {
      "cell_type": "markdown",
      "metadata": {
        "id": "view-in-github",
        "colab_type": "text"
      },
      "source": [
        "<a href=\"https://colab.research.google.com/github/lmolinario/ML_Sec_project/blob/main/MLSEC_FNM.ipynb\" target=\"_parent\"><img src=\"https://colab.research.google.com/assets/colab-badge.svg\" alt=\"Open In Colab\"/></a>"
      ]
    },
    {
      "cell_type": "markdown",
      "source": [
        "#**Machine Learning Security Project - Project 1**\n",
        "###**Student: Lello Molinario (70/90/00369)**\n",
        "\n",
        "**Instructions**\n",
        "\n",
        "Re-evaluate 5 RobustBench models with another attack algorithm (e.g. FMN) and identify samples for which one attack works and the other doesn't. Explain the results - i.e., provide some motivations on why one of the attacks did not work properly, while the other did.\n"
      ],
      "metadata": {
        "id": "UNj4dg_7U7vg"
      }
    },
    {
      "cell_type": "markdown",
      "source": [
        "**Execution**\n",
        "\n",
        "In order to re-evaluate 5 RobustBench models I chose \"FNM\" as the attack algorithm."
      ],
      "metadata": {
        "id": "Om_4jmEPVBE6"
      }
    },
    {
      "cell_type": "markdown",
      "source": [
        "# **Step 1: Installing libraries and resolving incompatibilities**"
      ],
      "metadata": {
        "id": "SipbGXS8VGSr"
      }
    },
    {
      "cell_type": "code",
      "source": [
        "!pip install git+https://github.com/RobustBench/robustbench.git"
      ],
      "metadata": {
        "id": "eTlAEv7kVqUK",
        "outputId": "3ac5a743-a57d-4501-8811-1cc18f67f92d",
        "colab": {
          "base_uri": "https://localhost:8080/"
        }
      },
      "execution_count": 2,
      "outputs": [
        {
          "output_type": "stream",
          "name": "stdout",
          "text": [
            "Collecting git+https://github.com/RobustBench/robustbench.git\n",
            "  Cloning https://github.com/RobustBench/robustbench.git to /tmp/pip-req-build-xswojd53\n",
            "  Running command git clone --filter=blob:none --quiet https://github.com/RobustBench/robustbench.git /tmp/pip-req-build-xswojd53\n",
            "  Resolved https://github.com/RobustBench/robustbench.git to commit 46a91f44524133b2cd8f721ec7e73ecb63f17fc8\n",
            "  Preparing metadata (setup.py) ... \u001b[?25l\u001b[?25hdone\n",
            "Collecting autoattack@ git+https://github.com/fra31/auto-attack.git@a39220048b3c9f2cca9a4d3a54604793c68eca7e#egg=autoattack (from robustbench==1.1)\n",
            "  Using cached autoattack-0.1-py3-none-any.whl\n",
            "Requirement already satisfied: torch>=1.7.1 in /usr/local/lib/python3.11/dist-packages (from robustbench==1.1) (2.5.1+cu121)\n",
            "Requirement already satisfied: torchvision>=0.8.2 in /usr/local/lib/python3.11/dist-packages (from robustbench==1.1) (0.20.1+cu121)\n",
            "Requirement already satisfied: torchdiffeq in /usr/local/lib/python3.11/dist-packages (from robustbench==1.1) (0.2.5)\n",
            "Requirement already satisfied: geotorch in /usr/local/lib/python3.11/dist-packages (from robustbench==1.1) (0.3.0)\n",
            "Requirement already satisfied: requests>=2.25.0 in /usr/local/lib/python3.11/dist-packages (from robustbench==1.1) (2.32.3)\n",
            "Requirement already satisfied: numpy>=1.19.4 in /usr/local/lib/python3.11/dist-packages (from robustbench==1.1) (1.26.4)\n",
            "Requirement already satisfied: Jinja2~=3.1.2 in /usr/local/lib/python3.11/dist-packages (from robustbench==1.1) (3.1.5)\n",
            "Requirement already satisfied: tqdm>=4.56.1 in /usr/local/lib/python3.11/dist-packages (from robustbench==1.1) (4.67.1)\n",
            "Requirement already satisfied: pandas>=1.3.5 in /usr/local/lib/python3.11/dist-packages (from robustbench==1.1) (2.2.2)\n",
            "Requirement already satisfied: timm==1.0.9 in /usr/local/lib/python3.11/dist-packages (from robustbench==1.1) (1.0.9)\n",
            "Requirement already satisfied: gdown==5.1.0 in /usr/local/lib/python3.11/dist-packages (from robustbench==1.1) (5.1.0)\n",
            "Requirement already satisfied: pyyaml in /usr/local/lib/python3.11/dist-packages (from robustbench==1.1) (6.0.2)\n",
            "Requirement already satisfied: beautifulsoup4 in /usr/local/lib/python3.11/dist-packages (from gdown==5.1.0->robustbench==1.1) (4.12.3)\n",
            "Requirement already satisfied: filelock in /usr/local/lib/python3.11/dist-packages (from gdown==5.1.0->robustbench==1.1) (3.17.0)\n",
            "Requirement already satisfied: huggingface_hub in /usr/local/lib/python3.11/dist-packages (from timm==1.0.9->robustbench==1.1) (0.27.1)\n",
            "Requirement already satisfied: safetensors in /usr/local/lib/python3.11/dist-packages (from timm==1.0.9->robustbench==1.1) (0.5.2)\n",
            "Requirement already satisfied: MarkupSafe>=2.0 in /usr/local/lib/python3.11/dist-packages (from Jinja2~=3.1.2->robustbench==1.1) (3.0.2)\n",
            "Requirement already satisfied: python-dateutil>=2.8.2 in /usr/local/lib/python3.11/dist-packages (from pandas>=1.3.5->robustbench==1.1) (2.8.2)\n",
            "Requirement already satisfied: pytz>=2020.1 in /usr/local/lib/python3.11/dist-packages (from pandas>=1.3.5->robustbench==1.1) (2024.2)\n",
            "Requirement already satisfied: tzdata>=2022.7 in /usr/local/lib/python3.11/dist-packages (from pandas>=1.3.5->robustbench==1.1) (2025.1)\n",
            "Requirement already satisfied: charset-normalizer<4,>=2 in /usr/local/lib/python3.11/dist-packages (from requests>=2.25.0->robustbench==1.1) (3.4.1)\n",
            "Requirement already satisfied: idna<4,>=2.5 in /usr/local/lib/python3.11/dist-packages (from requests>=2.25.0->robustbench==1.1) (3.10)\n",
            "Requirement already satisfied: urllib3<3,>=1.21.1 in /usr/local/lib/python3.11/dist-packages (from requests>=2.25.0->robustbench==1.1) (2.3.0)\n",
            "Requirement already satisfied: certifi>=2017.4.17 in /usr/local/lib/python3.11/dist-packages (from requests>=2.25.0->robustbench==1.1) (2024.12.14)\n",
            "Requirement already satisfied: typing-extensions>=4.8.0 in /usr/local/lib/python3.11/dist-packages (from torch>=1.7.1->robustbench==1.1) (4.12.2)\n",
            "Requirement already satisfied: networkx in /usr/local/lib/python3.11/dist-packages (from torch>=1.7.1->robustbench==1.1) (3.4.2)\n",
            "Requirement already satisfied: fsspec in /usr/local/lib/python3.11/dist-packages (from torch>=1.7.1->robustbench==1.1) (2024.10.0)\n",
            "Requirement already satisfied: nvidia-cuda-nvrtc-cu12==12.1.105 in /usr/local/lib/python3.11/dist-packages (from torch>=1.7.1->robustbench==1.1) (12.1.105)\n",
            "Requirement already satisfied: nvidia-cuda-runtime-cu12==12.1.105 in /usr/local/lib/python3.11/dist-packages (from torch>=1.7.1->robustbench==1.1) (12.1.105)\n",
            "Requirement already satisfied: nvidia-cuda-cupti-cu12==12.1.105 in /usr/local/lib/python3.11/dist-packages (from torch>=1.7.1->robustbench==1.1) (12.1.105)\n",
            "Requirement already satisfied: nvidia-cudnn-cu12==9.1.0.70 in /usr/local/lib/python3.11/dist-packages (from torch>=1.7.1->robustbench==1.1) (9.1.0.70)\n",
            "Requirement already satisfied: nvidia-cublas-cu12==12.1.3.1 in /usr/local/lib/python3.11/dist-packages (from torch>=1.7.1->robustbench==1.1) (12.1.3.1)\n",
            "Requirement already satisfied: nvidia-cufft-cu12==11.0.2.54 in /usr/local/lib/python3.11/dist-packages (from torch>=1.7.1->robustbench==1.1) (11.0.2.54)\n",
            "Requirement already satisfied: nvidia-curand-cu12==10.3.2.106 in /usr/local/lib/python3.11/dist-packages (from torch>=1.7.1->robustbench==1.1) (10.3.2.106)\n",
            "Requirement already satisfied: nvidia-cusolver-cu12==11.4.5.107 in /usr/local/lib/python3.11/dist-packages (from torch>=1.7.1->robustbench==1.1) (11.4.5.107)\n",
            "Requirement already satisfied: nvidia-cusparse-cu12==12.1.0.106 in /usr/local/lib/python3.11/dist-packages (from torch>=1.7.1->robustbench==1.1) (12.1.0.106)\n",
            "Requirement already satisfied: nvidia-nccl-cu12==2.21.5 in /usr/local/lib/python3.11/dist-packages (from torch>=1.7.1->robustbench==1.1) (2.21.5)\n",
            "Requirement already satisfied: nvidia-nvtx-cu12==12.1.105 in /usr/local/lib/python3.11/dist-packages (from torch>=1.7.1->robustbench==1.1) (12.1.105)\n",
            "Requirement already satisfied: triton==3.1.0 in /usr/local/lib/python3.11/dist-packages (from torch>=1.7.1->robustbench==1.1) (3.1.0)\n",
            "Requirement already satisfied: sympy==1.13.1 in /usr/local/lib/python3.11/dist-packages (from torch>=1.7.1->robustbench==1.1) (1.13.1)\n",
            "Requirement already satisfied: nvidia-nvjitlink-cu12 in /usr/local/lib/python3.11/dist-packages (from nvidia-cusolver-cu12==11.4.5.107->torch>=1.7.1->robustbench==1.1) (12.6.85)\n",
            "Requirement already satisfied: mpmath<1.4,>=1.1.0 in /usr/local/lib/python3.11/dist-packages (from sympy==1.13.1->torch>=1.7.1->robustbench==1.1) (1.3.0)\n",
            "Requirement already satisfied: pillow!=8.3.*,>=5.3.0 in /usr/local/lib/python3.11/dist-packages (from torchvision>=0.8.2->robustbench==1.1) (11.1.0)\n",
            "Requirement already satisfied: scipy>=1.4.0 in /usr/local/lib/python3.11/dist-packages (from torchdiffeq->robustbench==1.1) (1.13.1)\n",
            "Requirement already satisfied: six>=1.5 in /usr/local/lib/python3.11/dist-packages (from python-dateutil>=2.8.2->pandas>=1.3.5->robustbench==1.1) (1.17.0)\n",
            "Requirement already satisfied: soupsieve>1.2 in /usr/local/lib/python3.11/dist-packages (from beautifulsoup4->gdown==5.1.0->robustbench==1.1) (2.6)\n",
            "Requirement already satisfied: packaging>=20.9 in /usr/local/lib/python3.11/dist-packages (from huggingface_hub->timm==1.0.9->robustbench==1.1) (24.2)\n",
            "Requirement already satisfied: PySocks!=1.5.7,>=1.5.6 in /usr/local/lib/python3.11/dist-packages (from requests[socks]->gdown==5.1.0->robustbench==1.1) (1.7.1)\n"
          ]
        }
      ]
    },
    {
      "cell_type": "code",
      "source": [
        "!pip install secml foolbox"
      ],
      "metadata": {
        "id": "duNBGTQpVm3L",
        "outputId": "9eecb371-3413-4f52-92a9-b803debb9d95",
        "colab": {
          "base_uri": "https://localhost:8080/",
          "height": 966
        }
      },
      "execution_count": 3,
      "outputs": [
        {
          "output_type": "stream",
          "name": "stdout",
          "text": [
            "Collecting secml\n",
            "  Downloading secml-0.13.post1-py2.py3-none-any.whl.metadata (12 kB)\n",
            "Requirement already satisfied: foolbox in /usr/local/lib/python3.11/dist-packages (3.3.4)\n",
            "\u001b[33mWARNING: Package 'secml' has an invalid Requires-Python: Invalid specifier: '>=3.5.*'\u001b[0m\u001b[33m\n",
            "\u001b[0mRequirement already satisfied: numpy>=1.17 in /usr/local/lib/python3.11/dist-packages (from secml) (1.26.4)\n",
            "Requirement already satisfied: scipy>=1.3.1 in /usr/local/lib/python3.11/dist-packages (from secml) (1.13.1)\n",
            "Collecting matplotlib~=3.0.0 (from secml)\n",
            "  Downloading matplotlib-3.0.3.tar.gz (36.6 MB)\n",
            "\u001b[2K     \u001b[90m━━━━━━━━━━━━━━━━━━━━━━━━━━━━━━━━━━━━━━━━\u001b[0m \u001b[32m36.6/36.6 MB\u001b[0m \u001b[31m50.2 MB/s\u001b[0m eta \u001b[36m0:00:00\u001b[0m\n",
            "\u001b[?25h  Preparing metadata (setup.py) ... \u001b[?25l\u001b[?25hdone\n",
            "Requirement already satisfied: scikit-learn>=0.21 in /usr/local/lib/python3.11/dist-packages (from secml) (1.6.1)\n",
            "Requirement already satisfied: joblib in /usr/local/lib/python3.11/dist-packages (from secml) (1.4.2)\n",
            "Requirement already satisfied: Pillow in /usr/local/lib/python3.11/dist-packages (from secml) (11.1.0)\n",
            "Requirement already satisfied: requests in /usr/local/lib/python3.11/dist-packages (from secml) (2.32.3)\n",
            "Requirement already satisfied: python-dateutil in /usr/local/lib/python3.11/dist-packages (from secml) (2.8.2)\n",
            "Requirement already satisfied: setuptools in /usr/local/lib/python3.11/dist-packages (from foolbox) (75.1.0)\n",
            "Requirement already satisfied: eagerpy>=0.30.0 in /usr/local/lib/python3.11/dist-packages (from foolbox) (0.30.0)\n",
            "Requirement already satisfied: GitPython>=3.0.7 in /usr/local/lib/python3.11/dist-packages (from foolbox) (3.1.44)\n",
            "Requirement already satisfied: typing-extensions>=3.7.4.1 in /usr/local/lib/python3.11/dist-packages (from foolbox) (4.12.2)\n",
            "Requirement already satisfied: gitdb<5,>=4.0.1 in /usr/local/lib/python3.11/dist-packages (from GitPython>=3.0.7->foolbox) (4.0.12)\n",
            "Requirement already satisfied: cycler>=0.10 in /usr/local/lib/python3.11/dist-packages (from matplotlib~=3.0.0->secml) (0.12.1)\n",
            "Requirement already satisfied: kiwisolver>=1.0.1 in /usr/local/lib/python3.11/dist-packages (from matplotlib~=3.0.0->secml) (1.4.8)\n",
            "Requirement already satisfied: pyparsing!=2.0.4,!=2.1.2,!=2.1.6,>=2.0.1 in /usr/local/lib/python3.11/dist-packages (from matplotlib~=3.0.0->secml) (3.2.1)\n",
            "Requirement already satisfied: six>=1.5 in /usr/local/lib/python3.11/dist-packages (from python-dateutil->secml) (1.17.0)\n",
            "Requirement already satisfied: charset-normalizer<4,>=2 in /usr/local/lib/python3.11/dist-packages (from requests->secml) (3.4.1)\n",
            "Requirement already satisfied: idna<4,>=2.5 in /usr/local/lib/python3.11/dist-packages (from requests->secml) (3.10)\n",
            "Requirement already satisfied: urllib3<3,>=1.21.1 in /usr/local/lib/python3.11/dist-packages (from requests->secml) (2.3.0)\n",
            "Requirement already satisfied: certifi>=2017.4.17 in /usr/local/lib/python3.11/dist-packages (from requests->secml) (2024.12.14)\n",
            "Requirement already satisfied: threadpoolctl>=3.1.0 in /usr/local/lib/python3.11/dist-packages (from scikit-learn>=0.21->secml) (3.5.0)\n",
            "Requirement already satisfied: smmap<6,>=3.0.1 in /usr/local/lib/python3.11/dist-packages (from gitdb<5,>=4.0.1->GitPython>=3.0.7->foolbox) (5.0.2)\n",
            "Downloading secml-0.13.post1-py2.py3-none-any.whl (430 kB)\n",
            "\u001b[2K   \u001b[90m━━━━━━━━━━━━━━━━━━━━━━━━━━━━━━━━━━━━━━━━\u001b[0m \u001b[32m431.0/431.0 kB\u001b[0m \u001b[31m20.9 MB/s\u001b[0m eta \u001b[36m0:00:00\u001b[0m\n",
            "\u001b[?25hBuilding wheels for collected packages: matplotlib\n",
            "  Building wheel for matplotlib (setup.py) ... \u001b[?25l\u001b[?25hdone\n",
            "  Created wheel for matplotlib: filename=matplotlib-3.0.3-cp311-cp311-linux_x86_64.whl size=11723816 sha256=ac1e40c52fb37c0b3c91befee3e6132a3b55a98dae3000268534532bae42a995\n",
            "  Stored in directory: /root/.cache/pip/wheels/e7/99/58/7ddb91918cb838a6f4099c834d5bf43c1262ab8cded5755817\n",
            "Successfully built matplotlib\n",
            "Installing collected packages: matplotlib, secml\n",
            "  Attempting uninstall: matplotlib\n",
            "    Found existing installation: matplotlib 3.10.0\n",
            "    Uninstalling matplotlib-3.10.0:\n",
            "      Successfully uninstalled matplotlib-3.10.0\n",
            "\u001b[31mERROR: pip's dependency resolver does not currently take into account all the packages that are installed. This behaviour is the source of the following dependency conflicts.\n",
            "plotnine 0.14.5 requires matplotlib>=3.8.0, but you have matplotlib 3.0.3 which is incompatible.\n",
            "bigframes 1.33.0 requires matplotlib>=3.7.1, but you have matplotlib 3.0.3 which is incompatible.\n",
            "seaborn 0.13.2 requires matplotlib!=3.6.1,>=3.4, but you have matplotlib 3.0.3 which is incompatible.\n",
            "arviz 0.20.0 requires matplotlib>=3.5, but you have matplotlib 3.0.3 which is incompatible.\u001b[0m\u001b[31m\n",
            "\u001b[0mSuccessfully installed matplotlib-3.0.3 secml-0.13.post1\n"
          ]
        },
        {
          "output_type": "display_data",
          "data": {
            "application/vnd.colab-display-data+json": {
              "pip_warning": {
                "packages": [
                  "matplotlib",
                  "mpl_toolkits"
                ]
              },
              "id": "3372ca32033b4601832a79f962059abd"
            }
          },
          "metadata": {}
        }
      ]
    },
    {
      "cell_type": "code",
      "source": [
        "import robustbench\n",
        "import secml\n",
        "import foolbox\n",
        "\n",
        "print(f\"RobustBench version: {robustbench.__name__}\")\n",
        "print(f\"SecML version: {secml.__version__}\")\n",
        "print(f\"Foolbox version: {foolbox.__version__}\")"
      ],
      "metadata": {
        "id": "mXJMQZ--WYnC",
        "outputId": "34105c0a-8172-41cb-e64f-55e92861fdc0",
        "colab": {
          "base_uri": "https://localhost:8080/"
        }
      },
      "execution_count": 4,
      "outputs": [
        {
          "output_type": "stream",
          "name": "stdout",
          "text": [
            "RobustBench version: robustbench\n",
            "SecML version: 0.13.post1\n",
            "Foolbox version: 3.3.4\n"
          ]
        }
      ]
    },
    {
      "cell_type": "code",
      "execution_count": 3,
      "metadata": {
        "id": "LcDxKMmOUSFX"
      },
      "outputs": [],
      "source": [
        "import secml\n",
        "import foolbox as fb\n",
        "import robustbench\n",
        "\n",
        "\n",
        "import os\n",
        "import gc\n",
        "import torch\n",
        "import numpy as np\n",
        "\n",
        "import matplotlib.pyplot as plt\n",
        "\n",
        "from secml.array import CArray\n",
        "from secml.ml import CClassifierPyTorch\n",
        "from secml.ml.peval.metrics import CMetricAccuracy\n",
        "#from secml.adv.attacks.evasion import CAttackEvasionFoolbox\n",
        "from secml.data.loader import CDataLoaderCIFAR10\n",
        "from secml.ml.features.normalization import CNormalizerMinMax\n",
        "from secml.figure import CFigure\n",
        "from secml.explanation import \\\n",
        "    CExplainerGradient, CExplainerGradientInput, CExplainerIntegratedGradients\n",
        "from secml.utils import fm\n",
        "from secml import settings\n",
        "from secml.ml.classifiers.loss import CSoftmax\n",
        "\n",
        "from robustbench.utils import load_model\n",
        "\n",
        "from torch import nn"
      ]
    },
    {
      "cell_type": "markdown",
      "source": [
        "## Global Variables\n",
        "Contains definition of global variables"
      ],
      "metadata": {
        "id": "fW0dTysWWphp"
      }
    },
    {
      "cell_type": "code",
      "source": [
        "input_shape    = (3, 32, 32)\n",
        "model_names    = [\n",
        "    \"Ding2020MMA\",\n",
        "    \"Wong2020Fast\",\n",
        "    \"Andriushchenko2020Understanding\",\n",
        "    \"Sitawarin2020Improving\",\n",
        "    \"Bartoldson2024Adversarial_WRN-94-16\"\n",
        "]\n",
        "n_samples      = 64\n",
        "dataset_labels = [\n",
        "    'airplane', 'automobile', 'bird', 'cat', 'deer',\n",
        "    'dog', 'frog', 'horse', 'ship', 'truck'\n",
        "]"
      ],
      "metadata": {
        "id": "2qB1ogmvWr3k"
      },
      "execution_count": 15,
      "outputs": []
    },
    {
      "cell_type": "markdown",
      "source": [
        "## Loading models\n",
        "\n",
        "Loads five models from robustbench. We have chosen the following models:\n",
        "*   1 - Ding2020MMA\n",
        "*   2 - Wong2020Fast\n",
        "*   3 - Andriushchenko2020Understanding\n",
        "*   4 - Sitawarin2020Improving\n",
        "*   5 - Bartoldson2024Adversarial_WRN-94-16"
      ],
      "metadata": {
        "id": "_pDYx-a8Wx7q"
      }
    },
    {
      "cell_type": "code",
      "source": [
        "def load_model(model_name):\n",
        "    \"\"\"\n",
        "    Load a single model from Robustbench and\n",
        "    wrap it into a CClassifier\n",
        "    \"\"\"\n",
        "    model = robustbench.utils.load_model(\n",
        "        model_name=model_name,\n",
        "        dataset='cifar10',\n",
        "        threat_model='Linf',\n",
        "    )\n",
        "\n",
        "    clf  = CClassifierPyTorch(\n",
        "        model,\n",
        "        input_shape=input_shape,\n",
        "        pretrained=True,\n",
        "        pretrained_classes=CArray(list(range(10))),\n",
        "        preprocess=None\n",
        "    )\n",
        "\n",
        "    return clf\n",
        "\n",
        "\n",
        "\n",
        "models = []\n",
        "for name in model_names:\n",
        "    try:\n",
        "        model = load_model(name)\n",
        "        models.append(model)\n",
        "    except Exception as e:\n",
        "        print(f\"Error loading model {name}: {e}\")"
      ],
      "metadata": {
        "id": "xE1DXCeAWzez"
      },
      "execution_count": 16,
      "outputs": []
    },
    {
      "cell_type": "markdown",
      "source": [
        "## Loading  CIFAR-10\n",
        "\n",
        "Loads 64 samples from CIFAR-10 dataset with shape (3, 32, 32)"
      ],
      "metadata": {
        "id": "AYwHdYofW1Ua"
      }
    },
    {
      "cell_type": "code",
      "source": [
        "tr, ts      = CDataLoaderCIFAR10().load()\n",
        "normalizer  = CNormalizerMinMax().fit(tr.X)\n",
        "\n",
        "ts          = ts[:n_samples, :]\n",
        "\n",
        "# Normalize test samples\n",
        "ts.X = normalizer.transform(ts.X)"
      ],
      "metadata": {
        "id": "Yxe2lLGCXGpM"
      },
      "execution_count": 17,
      "outputs": []
    },
    {
      "cell_type": "markdown",
      "source": [
        "## Fast-Minimum-Norm (FMN) attack\n",
        "\n",
        "Computes the accuracy of the models, just to confirm that it is working properly."
      ],
      "metadata": {
        "id": "h7iIxwk3XI5S"
      }
    },
    {
      "cell_type": "code",
      "source": [
        "# Calcolo delle predizioni e accuratezza dei modelli\n",
        "metric = CMetricAccuracy()\n",
        "models_preds = [clf.predict(ts.X) for clf in models]\n",
        "accuracies = [metric.performance_score(y_true=ts.Y, y_pred=y_pred) for y_pred in models_preds]\n",
        "\n",
        "print(\"-\" * 90)\n",
        "# Stampa delle accuratezze\n",
        "for idx in range(len(model_names)):\n",
        "    print(f\"Model name: {model_names[idx]:<40} - Clean model accuracy: {(accuracies[idx] * 100):.2f} %\")\n",
        "print(\"-\" * 90)"
      ],
      "metadata": {
        "id": "d0c2DKKsXZJ6"
      },
      "execution_count": null,
      "outputs": []
    }
  ]
}